{
 "cells": [
  {
   "cell_type": "code",
   "execution_count": null,
   "metadata": {},
   "outputs": [
    {
     "name": "stdout",
     "output_type": "stream",
     "text": [
      "Обработка файлов завершена.\n"
     ]
    }
   ],
   "source": [
    "import os\n",
    "import matplotlib.pyplot as plt\n",
    "import numpy as np\n",
    "\n",
    "directory = \"data\"\n",
    "\n",
    "files = [f for f in os.listdir(directory) if f.startswith('_freq_') and f.endswith('.txt')]\n",
    "\n",
    "for file_name in files:\n",
    "    with open(os.path.join(directory, file_name), 'r') as file:\n",
    "        data = file.readlines()\n",
    "    \n",
    "    x_values = []\n",
    "    y_values = []\n",
    "    for line in data:\n",
    "        if line.strip(): \n",
    "            x, y = map(float, line.strip().split())\n",
    "            x_values.append(x)\n",
    "            y_values.append(y)\n",
    "    \n",
    "    x_values = np.array(x_values)\n",
    "    y_values = np.array(y_values)\n",
    "    \n",
    "    step = x_values[1] - x_values[0]\n",
    "    \n",
    "    new_x = np.arange(0, len(x_values) * step, step)\n",
    "    \n",
    "    plt.figure(figsize=(10, 6))\n",
    "    plt.plot(new_x, y_values)\n",
    "    \n",
    "    freq = file_name.split('_')[2]  # Извлекаем частоту из имени файла\n",
    "    plt.title(f'График для частоты {freq} ГГц')\n",
    "    plt.xlabel('Смещение')\n",
    "    plt.ylabel('Значение')\n",
    "    plt.grid(True)\n",
    "    \n",
    "    # Сохраняем график\n",
    "    plt.savefig(f'график_{freq}.png')\n",
    "    plt.close()\n",
    "\n",
    "print(\"Обработка файлов завершена.\")"
   ]
  },
  {
   "cell_type": "code",
   "execution_count": null,
   "metadata": {},
   "outputs": [
    {
     "name": "stdout",
     "output_type": "stream",
     "text": [
      "Обработка файлов завершена.\n"
     ]
    }
   ],
   "source": [
    "import os\n",
    "import matplotlib.pyplot as plt\n",
    "import numpy as np\n",
    "\n",
    "def getMean(data_x, data_y, time1, time2):\n",
    "    indices = np.where((data_x >= time1) & (data_x <= time2))[0]\n",
    "    \n",
    "    if len(indices) == 0:\n",
    "        return None, []\n",
    "    \n",
    "    # Вычисляем среднее значение\n",
    "    mean_value = np.mean(data_y[indices])\n",
    "    return mean_value, indices\n",
    "\n",
    "directory = \"data\"\n",
    "\n",
    "files = [f for f in os.listdir(directory) if f.startswith('_freq_') and f.endswith('.txt')]\n",
    "\n",
    "for file_name in files:\n",
    "    with open(os.path.join(directory, file_name), 'r') as file:\n",
    "        data = file.readlines()\n",
    "    \n",
    "    x_values = []\n",
    "    y_values = []\n",
    "    for line in data:\n",
    "        if line.strip():\n",
    "            x, y = map(float, line.strip().split())\n",
    "            x_values.append(x)\n",
    "            y_values.append(y)\n",
    "    \n",
    "    x_values = np.array(x_values)\n",
    "    y_values = np.array(y_values)\n",
    "    \n",
    "    step = x_values[1] - x_values[0]\n",
    "    \n",
    "    new_x = np.arange(0, len(x_values) * step, step)\n",
    "\n",
    "    plt.figure(figsize=(10, 6))\n",
    "    plt.plot(new_x, y_values, label='Данные')\n",
    "    \n",
    "    max_y = np.max(y_values)\n",
    "    max_x = new_x[np.argmax(y_values)]\n",
    "    plt.plot(max_x, max_y, 'ro', label=f'Максимум: {max_y:.2f}')\n",
    "\n",
    "    time1 = 25 \n",
    "    time2 = 88  \n",
    "    mean_value, indices = getMean(new_x, y_values, time1, time2)\n",
    "    \n",
    "    if mean_value is not None:\n",
    "        plt.axhline(y=mean_value, color='r', linestyle='--', \n",
    "                   label=f'Среднее значение: {mean_value:.2f}')\n",
    "        plt.fill_between(new_x[indices], y_values[indices], \n",
    "                        mean_value, alpha=0.3, color='red')\n",
    "    \n",
    "    freq = file_name.split('_')[2]\n",
    "    plt.title(f'График для частоты {freq} ГГц')\n",
    "    plt.xlabel('Время')\n",
    "    plt.ylabel('Значение')\n",
    "    plt.grid(True)\n",
    "    plt.legend()\n",
    "    \n",
    "    plt.savefig(f'график_{freq}.png')\n",
    "    plt.close()\n",
    "\n",
    "print(\"Обработка файлов завершена.\")"
   ]
  },
  {
   "cell_type": "code",
   "execution_count": null,
   "metadata": {},
   "outputs": [],
   "source": []
  }
 ],
 "metadata": {
  "kernelspec": {
   "display_name": "Python 3",
   "language": "python",
   "name": "python3"
  },
  "language_info": {
   "codemirror_mode": {
    "name": "ipython",
    "version": 3
   },
   "file_extension": ".py",
   "mimetype": "text/x-python",
   "name": "python",
   "nbconvert_exporter": "python",
   "pygments_lexer": "ipython3",
   "version": "3.10.11"
  }
 },
 "nbformat": 4,
 "nbformat_minor": 2
}
